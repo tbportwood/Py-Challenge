{
 "cells": [
  {
   "cell_type": "code",
   "execution_count": 2,
   "metadata": {},
   "outputs": [
    {
     "name": "stdout",
     "output_type": "stream",
     "text": [
      "Election Results\n",
      "Total Votes: 3521001\n",
      "Khan: 63.000%  (2218231)\n",
      "Correy: 20.000%  (704200)\n",
      "Li: 14.000%  (492940)\n",
      "O'Tooley: 3.000%  (105630)\n",
      "Winner: Khan\n"
     ]
    },
    {
     "data": {
      "text/plain": [
       "12"
      ]
     },
     "execution_count": 2,
     "metadata": {},
     "output_type": "execute_result"
    }
   ],
   "source": [
    "import os\n",
    "import csv\n",
    "import decimal\n",
    "\n",
    "#set file path\n",
    "csvpath = 'election_data.csv'\n",
    "\n",
    "#open file\n",
    "with open(csvpath, newline = '') as csvfile:\n",
    "    \n",
    "    #start i/o stream\n",
    "    csvreader = csv.reader(csvfile, delimiter=',')\n",
    "    \n",
    "    #ignore header\n",
    "    next(csvreader)\n",
    "    \n",
    "    #initialize candidates dictionary\n",
    "    candidates = {}\n",
    "    \n",
    "    #initialize total votes variable\n",
    "    total = 0\n",
    "    \n",
    "    for row in csvreader:\n",
    "        #add 1 to vote total for each row\n",
    "        total = total + 1\n",
    "        \n",
    "        #set a variable, key, to the 3rd index of the row (name)\n",
    "        key = row[2]\n",
    "        \n",
    "        #check to see if the name is in the dictionary\n",
    "        if key in candidates.keys():\n",
    "            #if the name is in the dictionary, add 1 to their vote total\n",
    "            candidates[key] = candidates[key] + 1\n",
    "        else:\n",
    "            #if the name is not in the dictionary, create a key in the dictionary\n",
    "            candidates.update({key : 1})\n",
    "            \n",
    "#create new file\n",
    "file = open(\"election_results.txt\", \"w\")\n",
    "\n",
    "#print output and write to the file\n",
    "print(\"Election Results\")\n",
    "print(f\"Total Votes: {total}\")\n",
    "file.write(\"Election Results \\n\")\n",
    "file.write(f\"Total Votes: {total}\\n\")\n",
    "\n",
    "#winning vote total, need this variable to keep track of who has the max number of votes\n",
    "winner = 0\n",
    "\n",
    "#write results to file\n",
    "for x in candidates:\n",
    "    totalper = '%.3f' % (candidates[x] / total * 100)\n",
    "    file.write(f\"{x}: {totalper}%  ({candidates[x]})\\n\")\n",
    "    print(f\"{x}: {totalper}%  ({candidates[x]})\")\n",
    "    #also check to see if the candidate has greatest number of votes, if so change the winner name and winner vote total\n",
    "    if candidates[x] > winner:\n",
    "        winner = candidates[x]\n",
    "        winner_name = x\n",
    "\n",
    "#print winner / write to file\n",
    "print(f\"Winner: {winner_name}\")\n",
    "file.write(f\"Winner: {winner_name}\")\n",
    "\n"
   ]
  },
  {
   "cell_type": "code",
   "execution_count": null,
   "metadata": {},
   "outputs": [],
   "source": []
  }
 ],
 "metadata": {
  "kernelspec": {
   "display_name": "Python 3",
   "language": "python",
   "name": "python3"
  },
  "language_info": {
   "codemirror_mode": {
    "name": "ipython",
    "version": 3
   },
   "file_extension": ".py",
   "mimetype": "text/x-python",
   "name": "python",
   "nbconvert_exporter": "python",
   "pygments_lexer": "ipython3",
   "version": "3.7.3"
  }
 },
 "nbformat": 4,
 "nbformat_minor": 4
}
