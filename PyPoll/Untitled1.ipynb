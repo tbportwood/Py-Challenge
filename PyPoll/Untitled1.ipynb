{
 "cells": [
  {
   "cell_type": "code",
   "execution_count": 15,
   "metadata": {},
   "outputs": [
    {
     "name": "stdout",
     "output_type": "stream",
     "text": [
      "{5, 7, 9, 10, 12, 21}\n",
      "Charlie won 100000000.\n"
     ]
    }
   ],
   "source": [
    "import random\n",
    "\n",
    "# This line creates a set with 6 random numbers\n",
    "lottery_numbers = set(random.sample(range(22), 6))\n",
    "# Here are your players; find out who has the most numbers matching lottery_numbers!\n",
    "players = [\n",
    "    {'name': 'Rolf', 'numbers': {1, 3, 5, 7, 9, 11}},\n",
    "    {'name': 'Charlie', 'numbers': {2, 7, 9, 22, 10, 5}},\n",
    "    {'name': 'Anna', 'numbers': {13, 14, 15, 16, 17, 18}},\n",
    "    {'name': 'Jen', 'numbers': {19, 20, 12, 7, 3, 5}}\n",
    "]\n",
    "\n",
    "winner = \"\"\n",
    "num_matches = 0\n",
    "for player in players:\n",
    "    if (len(lottery_numbers.intersection(player[\"numbers\"])) > num_matches):\n",
    "        num_matches = len(lottery_numbers.intersection(player[\"numbers\"]))\n",
    "        winner = player[\"name\"]\n",
    "        \n",
    "print(winner + \" won \" + str(100 ** num_matches) + \".\")\n",
    "# Then, print out a line such as \"Jen won 1000.\".\n",
    "# The winnings are calculated with the formula:\n",
    "# 100 ** len(numbers_matched)\n"
   ]
  },
  {
   "cell_type": "code",
   "execution_count": null,
   "metadata": {},
   "outputs": [],
   "source": []
  }
 ],
 "metadata": {
  "kernelspec": {
   "display_name": "Python 3",
   "language": "python",
   "name": "python3"
  },
  "language_info": {
   "codemirror_mode": {
    "name": "ipython",
    "version": 3
   },
   "file_extension": ".py",
   "mimetype": "text/x-python",
   "name": "python",
   "nbconvert_exporter": "python",
   "pygments_lexer": "ipython3",
   "version": "3.7.3"
  }
 },
 "nbformat": 4,
 "nbformat_minor": 4
}
