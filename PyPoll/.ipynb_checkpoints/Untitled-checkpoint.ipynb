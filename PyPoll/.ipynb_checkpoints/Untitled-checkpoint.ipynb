{
 "cells": [
  {
   "cell_type": "code",
   "execution_count": 18,
   "metadata": {},
   "outputs": [
    {
     "name": "stdout",
     "output_type": "stream",
     "text": [
      "Election Results\n",
      "Total Votes: 3521001\n",
      "Khan: 63.0%  (2218231)\n",
      "Correy: 20.0%  (704200)\n",
      "Li: 14.0%  (492940)\n",
      "O'Tooley: 3.0%  (105630)\n"
     ]
    }
   ],
   "source": [
    "import os\n",
    "import csv\n",
    "\n",
    "csvpath = 'election_data.csv'\n",
    "with open(csvpath, newline = '') as csvfile:\n",
    "    \n",
    "    csvreader = csv.reader(csvfile, delimiter=',')\n",
    "    \n",
    "    #ignore header\n",
    "    next(csvreader)\n",
    "    candidates = {}\n",
    "    total = 0\n",
    "    for row in csvreader:\n",
    "        total = total + 1\n",
    "        key = row[2]\n",
    "        if key in candidates.keys():\n",
    "            candidates[key] = candidates[key] + 1\n",
    "        else:\n",
    "            candidates.update({key : 1})\n",
    "file = open(\"election_results.txt\", \"w\")\n",
    "\n",
    "print(\"Election Results\")\n",
    "print(f\"Total Votes: {total}\")\n",
    "file.write(f\"Total Votes: {total}\\n\")\n",
    "\n",
    "for x in candidates:\n",
    "    file.write(f\"{x}: {round(candidates[x] / total * 100, 3)}%  ({candidates[x]})\\n\")\n",
    "    print(f\"{x}: {round(candidates[x] / total * 100, 3)}%  ({candidates[x]})\")\n"
   ]
  },
  {
   "cell_type": "code",
   "execution_count": null,
   "metadata": {},
   "outputs": [],
   "source": []
  }
 ],
 "metadata": {
  "kernelspec": {
   "display_name": "Python 3",
   "language": "python",
   "name": "python3"
  },
  "language_info": {
   "codemirror_mode": {
    "name": "ipython",
    "version": 3
   },
   "file_extension": ".py",
   "mimetype": "text/x-python",
   "name": "python",
   "nbconvert_exporter": "python",
   "pygments_lexer": "ipython3",
   "version": "3.7.3"
  }
 },
 "nbformat": 4,
 "nbformat_minor": 4
}
