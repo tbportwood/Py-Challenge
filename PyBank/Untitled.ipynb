{
 "cells": [
  {
   "cell_type": "code",
   "execution_count": 9,
   "metadata": {},
   "outputs": [
    {
     "name": "stdout",
     "output_type": "stream",
     "text": [
      "Total Months: 86\n",
      "Total: $38382578\n",
      "Average Change: $-2315.12\n",
      "Greatest Increase in Profits: Feb-2012  ($1926159)\n",
      "Greatest Decrease in Profits: Sep-2013  ($-2196167)\n",
      "['Total Months: 86\\n', 'Total: $38382578\\n', 'Average Change: $-2315.12\\n', 'Greatest Increase in Profits: Feb-2012  ($1926159)\\n', 'Greatest Decrease in Profits: Sep-2013  ($-2196167)\\n']\n"
     ]
    }
   ],
   "source": [
    "import os\n",
    "import csv\n",
    "\n",
    "csvpath = 'budget_data.csv'\n",
    "with open(csvpath, newline = '') as csvfile:\n",
    "    \n",
    "    csvreader = csv.reader(csvfile, delimiter=',')\n",
    "    \n",
    "    #ignore header\n",
    "    next(csvreader)\n",
    "    \n",
    "    total_months = 0\n",
    "    sum_profits = 0\n",
    "    greatest_increase = 0\n",
    "    greatest_decrease = 0\n",
    "    for row in csvreader:\n",
    "        if total_months == 0:\n",
    "            first_profit = int(row[1])\n",
    "            current_profit = int(row[1])\n",
    "        else:\n",
    "            previous_profit = current_profit\n",
    "            current_profit = int(row[1])\n",
    "            if current_profit - previous_profit < greatest_decrease:\n",
    "                greatest_decrease = current_profit - previous_profit\n",
    "                greatest_decrease_month = row[0]\n",
    "            if current_profit - previous_profit > greatest_increase:\n",
    "                greatest_increase = current_profit - previous_profit\n",
    "                greatest_increase_month = row[0]\n",
    "        total_months = total_months + 1\n",
    "        sum_profits = sum_profits + current_profit\n",
    "\n",
    "print(f\"Total Months: {total_months}\")\n",
    "print(f\"Total: ${sum_profits}\")\n",
    "#there are total_months profit entries, so only total_months - 1 changes in profits\n",
    "average_change = round(( current_profit - first_profit ) / (total_months - 1), 2)\n",
    "print(f\"Average Change: ${average_change}\")\n",
    "print(f\"Greatest Increase in Profits: {greatest_increase_month}  (${greatest_increase})\" )\n",
    "print(f\"Greatest Decrease in Profits: {greatest_decrease_month}  (${greatest_decrease})\" )\n",
    "\n",
    "file = open(\"results.txt\", \"w\")\n",
    "file.write(f\"Total Months: {total_months}\\n\")\n",
    "file.write(f\"Total: ${sum_profits}\\n\")\n",
    "file.write(f\"Average Change: ${average_change}\\n\")\n",
    "file.write(f\"Greatest Increase in Profits: {greatest_increase_month}  (${greatest_increase})\\n\")\n",
    "file.write(f\"Greatest Decrease in Profits: {greatest_decrease_month}  (${greatest_decrease})\\n\" )\n",
    "file.close()\n"
   ]
  },
  {
   "cell_type": "code",
   "execution_count": null,
   "metadata": {},
   "outputs": [],
   "source": []
  }
 ],
 "metadata": {
  "kernelspec": {
   "display_name": "Python 3",
   "language": "python",
   "name": "python3"
  },
  "language_info": {
   "codemirror_mode": {
    "name": "ipython",
    "version": 3
   },
   "file_extension": ".py",
   "mimetype": "text/x-python",
   "name": "python",
   "nbconvert_exporter": "python",
   "pygments_lexer": "ipython3",
   "version": "3.7.3"
  }
 },
 "nbformat": 4,
 "nbformat_minor": 4
}
